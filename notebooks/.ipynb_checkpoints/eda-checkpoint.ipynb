{
 "cells": [
  {
   "cell_type": "code",
   "execution_count": null,
   "id": "ad7984f7",
   "metadata": {
    "vscode": {
     "languageId": "plaintext"
    }
   },
   "outputs": [],
   "source": [
    "# Exploratory Data Analysis (EDA) for Gaming Forecast Project\n",
    "\n",
    "This notebook explores the cleaned datasets prepared for predicting breakout trends in video games.\n",
    "\n",
    "We will:\n",
    "- Inspect raw and cleaned data\n",
    "- Understand structure and columns\n",
    "- Visualize trends (genre, platform, yearly sales)\n",
    "- Define target feature (Breakout = top 10% sales)\n"
   ]
  },
  {
   "cell_type": "code",
   "execution_count": null,
   "id": "8c937d88",
   "metadata": {
    "vscode": {
     "languageId": "plaintext"
    }
   },
   "outputs": [],
   "source": [
    "import pandas as pd\n",
    "import matplotlib.pyplot as plt\n",
    "import seaborn as sns\n",
    "\n",
    "# Load cleaned datasets\n",
    "vgsales = pd.read_csv(\"../data/processed/vgsales_cleaned.csv\")\n",
    "topgross = pd.read_csv(\"../data/processed/topgrossing_cleaned.csv\")\n",
    "\n",
    "# Show first few rows of Video Game Sales\n",
    "vgsales.head()\n"
   ]
  },
  {
   "cell_type": "code",
   "execution_count": null,
   "id": "d44dfc85",
   "metadata": {
    "vscode": {
     "languageId": "plaintext"
    }
   },
   "outputs": [],
   "source": [
    "print(f\"VGSales shape: {vgsales.shape}\")\n",
    "print(vgsales.info())\n",
    "\n",
    "# Summary statistics\n",
    "vgsales.describe(include='all').transpose()\n"
   ]
  },
  {
   "cell_type": "code",
   "execution_count": null,
   "id": "202e7338",
   "metadata": {
    "vscode": {
     "languageId": "plaintext"
    }
   },
   "outputs": [],
   "source": [
    "# Show 10 random rows to visualize data variety\n",
    "vgsales.sample(10)\n"
   ]
  },
  {
   "cell_type": "code",
   "execution_count": null,
   "id": "e6e865bc",
   "metadata": {
    "vscode": {
     "languageId": "plaintext"
    }
   },
   "outputs": [],
   "source": [
    "# Define breakout threshold (top 10% global sales)\n",
    "threshold = vgsales['Global_Sales'].quantile(0.9)\n",
    "vgsales['Breakout'] = (vgsales['Global_Sales'] >= threshold).astype(int)\n",
    "\n",
    "# Display rows with Breakout column\n",
    "vgsales[['Name','Global_Sales','Breakout']].head(10)\n"
   ]
  },
  {
   "cell_type": "code",
   "execution_count": null,
   "id": "b69f5b10",
   "metadata": {
    "vscode": {
     "languageId": "plaintext"
    }
   },
   "outputs": [],
   "source": [
    "plt.figure(figsize=(10,5))\n",
    "sns.countplot(data=vgsales, x='Genre', order=vgsales['Genre'].value_counts().index)\n",
    "plt.xticks(rotation=45)\n",
    "plt.title(\"Number of Games per Genre\")\n",
    "plt.show()\n"
   ]
  },
  {
   "cell_type": "code",
   "execution_count": null,
   "id": "831f8ebf",
   "metadata": {
    "vscode": {
     "languageId": "plaintext"
    }
   },
   "outputs": [],
   "source": [
    "plt.figure(figsize=(12,6))\n",
    "vgsales.groupby('Year')['Global_Sales'].sum().plot(kind='bar')\n",
    "plt.title(\"Total Global Sales by Year\")\n",
    "plt.xlabel(\"Year\")\n",
    "plt.ylabel(\"Sales (Millions)\")\n",
    "plt.show()\n"
   ]
  },
  {
   "cell_type": "code",
   "execution_count": null,
   "id": "fcbbd3a7",
   "metadata": {
    "vscode": {
     "languageId": "plaintext"
    }
   },
   "outputs": [],
   "source": [
    "top_platforms = vgsales.groupby('Platform')['Global_Sales'].sum().sort_values(ascending=False).head(10)\n",
    "\n",
    "plt.figure(figsize=(10,5))\n",
    "top_platforms.plot(kind='bar')\n",
    "plt.title(\"Top 10 Platforms by Global Sales\")\n",
    "plt.ylabel(\"Total Sales (Millions)\")\n",
    "plt.show()\n"
   ]
  }
 ],
 "metadata": {
  "language_info": {
   "name": "python"
  }
 },
 "nbformat": 4,
 "nbformat_minor": 5
}
